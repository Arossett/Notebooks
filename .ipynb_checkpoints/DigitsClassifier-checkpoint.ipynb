{
 "cells": [
  {
   "cell_type": "markdown",
   "metadata": {},
   "source": [
    "## Digits Classifier from scratch"
   ]
  },
  {
   "cell_type": "code",
   "execution_count": 1,
   "metadata": {},
   "outputs": [],
   "source": [
    "import torch\n",
    "import torchvision\n",
    "import numpy as np\n",
    "import matplotlib.pyplot as plt\n",
    "import torch.nn as nn\n",
    "from torch.utils.data import TensorDataset"
   ]
  },
  {
   "cell_type": "code",
   "execution_count": 2,
   "metadata": {},
   "outputs": [],
   "source": [
    "#loading handwritten digits datasets \n",
    "mnist = torchvision.datasets.MNIST('/files/', download=True, train=True, transform = torchvision.transforms.Compose([torchvision.transforms.ToTensor(), \n",
    "                                                                                                                     torchvision.transforms.Normalize((0), (1))]))\n",
    "mnist_test = torchvision.datasets.MNIST('/files/', download=True, train=False, transform = torchvision.transforms.Compose([torchvision.transforms.ToTensor(), \n",
    "                                                                                                                            torchvision.transforms.Normalize(\n",
    "                                                                                                                                (0), (1))]))\n",
    "\n"
   ]
  },
  {
   "cell_type": "code",
   "execution_count": 3,
   "metadata": {},
   "outputs": [
    {
     "ename": "NameError",
     "evalue": "name 'DataLoader' is not defined",
     "output_type": "error",
     "traceback": [
      "\u001b[1;31m---------------------------------------------------------------------------\u001b[0m",
      "\u001b[1;31mNameError\u001b[0m                                 Traceback (most recent call last)",
      "\u001b[1;32m<ipython-input-3-7be5c7ec1e57>\u001b[0m in \u001b[0;36m<module>\u001b[1;34m\u001b[0m\n\u001b[0;32m      6\u001b[0m \u001b[0mtensor_y\u001b[0m \u001b[1;33m=\u001b[0m \u001b[0mtorch\u001b[0m\u001b[1;33m.\u001b[0m\u001b[0mTensor\u001b[0m\u001b[1;33m(\u001b[0m\u001b[0mtrain_y\u001b[0m\u001b[1;33m)\u001b[0m\u001b[1;33m\u001b[0m\u001b[1;33m\u001b[0m\u001b[0m\n\u001b[0;32m      7\u001b[0m \u001b[0mmy_dataset\u001b[0m \u001b[1;33m=\u001b[0m \u001b[0mTensorDataset\u001b[0m\u001b[1;33m(\u001b[0m\u001b[0mtensor_x\u001b[0m\u001b[1;33m,\u001b[0m\u001b[0mtensor_y\u001b[0m\u001b[1;33m)\u001b[0m \u001b[1;31m# create your datset\u001b[0m\u001b[1;33m\u001b[0m\u001b[1;33m\u001b[0m\u001b[0m\n\u001b[1;32m----> 8\u001b[1;33m \u001b[0mmy_dataloader\u001b[0m \u001b[1;33m=\u001b[0m \u001b[0mDataLoader\u001b[0m\u001b[1;33m(\u001b[0m\u001b[0mmy_dataset\u001b[0m\u001b[1;33m,\u001b[0m \u001b[0mbatch_size\u001b[0m\u001b[1;33m=\u001b[0m\u001b[1;36m256\u001b[0m\u001b[1;33m,\u001b[0m \u001b[0mshuffle\u001b[0m\u001b[1;33m=\u001b[0m\u001b[1;32mTrue\u001b[0m\u001b[1;33m)\u001b[0m\u001b[1;33m\u001b[0m\u001b[1;33m\u001b[0m\u001b[0m\n\u001b[0m\u001b[0;32m      9\u001b[0m \u001b[0mtensor_x\u001b[0m \u001b[1;33m=\u001b[0m \u001b[0mtorch\u001b[0m\u001b[1;33m.\u001b[0m\u001b[0mTensor\u001b[0m\u001b[1;33m(\u001b[0m\u001b[0mtest_x\u001b[0m\u001b[1;33m)\u001b[0m \u001b[1;31m# transform to torch tensor\u001b[0m\u001b[1;33m\u001b[0m\u001b[1;33m\u001b[0m\u001b[0m\n\u001b[0;32m     10\u001b[0m \u001b[0mtensor_y\u001b[0m \u001b[1;33m=\u001b[0m \u001b[0mtorch\u001b[0m\u001b[1;33m.\u001b[0m\u001b[0mTensor\u001b[0m\u001b[1;33m(\u001b[0m\u001b[0mtest_y\u001b[0m\u001b[1;33m)\u001b[0m\u001b[1;33m\u001b[0m\u001b[1;33m\u001b[0m\u001b[0m\n",
      "\u001b[1;31mNameError\u001b[0m: name 'DataLoader' is not defined"
     ]
    }
   ],
   "source": [
    "train_x = mnist.data.view(-1, 28*28).float()/255\n",
    "train_y = mnist.targets.view(-1, 1).float()\n",
    "test_x = mnist_test.data.view(-1, 28*28).float()/255\n",
    "test_y = mnist_test.targets.view(-1, 1).float()\n",
    "tensor_x = torch.Tensor(train_x) # transform to torch tensor\n",
    "tensor_y = torch.Tensor(train_y)\n",
    "my_dataset = TensorDataset(tensor_x,tensor_y) # create your datset\n",
    "my_dataloader = DataLoader(my_dataset, batch_size=256, shuffle=True)\n",
    "tensor_x = torch.Tensor(test_x) # transform to torch tensor\n",
    "tensor_y = torch.Tensor(test_y)\n",
    "my_test_dataset = TensorDataset(tensor_x,tensor_y) # create your datset\n",
    "my_test_dataloader = DataLoader(my_test_dataset, batch_size=256, shuffle=True)"
   ]
  },
  {
   "cell_type": "code",
   "execution_count": null,
   "metadata": {},
   "outputs": [],
   "source": [
    "#init parameters method\n",
    "def init_params(size,variance=1.0): return (torch.randn(size)*variance).requires_grad_()\n",
    "# weights = init_params((28*28,1))\n",
    "# bias = init_params(1)\n",
    "\n",
    "#creating linear function\n",
    "def linear_function(x):\n",
    "  return x@w + b"
   ]
  },
  {
   "cell_type": "code",
   "execution_count": null,
   "metadata": {},
   "outputs": [],
   "source": [
    "t_l = torch.utils.data.DataLoader(mnist, batch_size=8, shuffle=True)\n",
    "e = enumerate(t_l)\n",
    "id, (data, targets) = next(e)\n",
    "fig = plt.figure()\n",
    "i = 0\n",
    "for d in data:\n",
    "  plt.subplot(3,3,i+1)\n",
    "  plt.tight_layout()\n",
    "  plt.imshow(d[0], cmap='gray', interpolation='none')\n",
    "  plt.title(\"Ground Truth: {}\".format(targets[i]))\n",
    "  plt.xticks([])\n",
    "  plt.yticks([])\n",
    "  i = i+1\n",
    "#fig"
   ]
  },
  {
   "cell_type": "code",
   "execution_count": null,
   "metadata": {},
   "outputs": [],
   "source": [
    "#simple function for binary results, need to be replaced for more classes\n",
    "def cross_entropy(preds, targets, reduction='mean'):\n",
    "  m = nn.Softmax(dim=1)\n",
    "  output = torch.log(m(preds))\n",
    "  return F.nll_loss(output, targets.long(), reduction=reduction)"
   ]
  },
  {
   "cell_type": "code",
   "execution_count": null,
   "metadata": {},
   "outputs": [],
   "source": [
    "#defining metrics method, to check how well we are doing\n",
    "#preds is a tensor, so we want to have the average accuracy\n",
    "def full_accuracy_metrics(preds, targets):  \n",
    "  targets = targets.view(len(targets))  \n",
    "  res = cross_entropy(preds, targets, 'none')\n",
    "  return torch.where(res<0.3, 1, 0).float().mean()"
   ]
  },
  {
   "cell_type": "code",
   "execution_count": null,
   "metadata": {},
   "outputs": [],
   "source": [
    "w = init_params((28*28,10))\n",
    "b = init_params(1)\n",
    "soft = nn.Softmax(dim=0)\n",
    "def train_full_model(nb_epochs = 10, batch_size= 10):\n",
    "  for i in range(nb_epochs):\n",
    "    for _,(x, y) in enumerate(my_dataloader):      \n",
    "        train_full_one_epoch(x, y, w, b)\n",
    "    acc = []\n",
    "    for _, (vx, vy) in enumerate(my_test_dataloader):\n",
    "      acc.append(full_accuracy_metrics(linear_function(vx), vy))\n",
    "    print(torch.stack(acc).mean().item())\n",
    "\n",
    "def train_full_one_epoch(x, y, w, b, batch_size = 256):\n",
    "  #create batch \n",
    "    #calculate loss function\n",
    "    preds = linear_function(x)\n",
    "    y = y.view(len(y))\n",
    "    loss_func = cross_entropy(preds, y)\n",
    "    loss_func.backward()\n",
    "\n",
    "    # #updating params\n",
    "    lr = 5e-1\n",
    "    w.data -= lr*w.grad.data\n",
    "    w.grad.zero_()\n",
    "    b.data -= lr*b.grad.data\n",
    "    b.grad.zero_()\n",
    "    return loss_func\n",
    "train_full_model(30, 10)"
   ]
  },
  {
   "cell_type": "code",
   "execution_count": null,
   "metadata": {},
   "outputs": [],
   "source": [
    "t_l = torch.utils.data.DataLoader(mnist_test, batch_size=8, shuffle=True)\n",
    "e = enumerate(t_l)\n",
    "id, (data, targets) = next(e)\n",
    "fig = plt.figure()\n",
    "i = 0\n",
    "for d in data:\n",
    "  plt.subplot(3,3,i+1)\n",
    "  plt.tight_layout()\n",
    "  plt.imshow(d[0], cmap='gray', interpolation='none')\n",
    "  number = linear_function(d[0].view(28*28)).argmax().item()\n",
    "  plt.title(\"This is a {}\".format(number))\n",
    "\n",
    "  plt.xticks([])\n",
    "  plt.yticks([])\n",
    "  i = i+1"
   ]
  },
  {
   "cell_type": "code",
   "execution_count": null,
   "metadata": {},
   "outputs": [],
   "source": []
  }
 ],
 "metadata": {
  "kernelspec": {
   "display_name": "Python 3",
   "language": "python",
   "name": "python3"
  },
  "language_info": {
   "codemirror_mode": {
    "name": "ipython",
    "version": 3
   },
   "file_extension": ".py",
   "mimetype": "text/x-python",
   "name": "python",
   "nbconvert_exporter": "python",
   "pygments_lexer": "ipython3",
   "version": "3.8.5"
  }
 },
 "nbformat": 4,
 "nbformat_minor": 4
}
