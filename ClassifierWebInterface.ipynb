{
 "cells": [
  {
   "cell_type": "markdown",
   "metadata": {},
   "source": [
    "## Basic Interface for Mice/Rat classifier"
   ]
  },
  {
   "cell_type": "code",
   "execution_count": 10,
   "metadata": {
    "id": "m-Tc-6TQFe2l"
   },
   "outputs": [],
   "source": [
    "import ipywidgets as widgets\n",
    "from PIL import Image\n",
    "import io"
   ]
  },
  {
   "cell_type": "code",
   "execution_count": 11,
   "metadata": {
    "id": "XKwsQDUbSX59"
   },
   "outputs": [],
   "source": [
    "from fastai.vision.all import *"
   ]
  },
  {
   "cell_type": "code",
   "execution_count": 12,
   "metadata": {
    "id": "cP77kWDTFf5h"
   },
   "outputs": [],
   "source": [
    "btn_upload = widgets.FileUpload()\n",
    "btn_run = widgets.Button(description='Display')\n",
    "lbl_pred = widgets.Label(value='Test', )\n",
    "output = widgets.Output()\n",
    "box = widgets.VBox(children=(btn_upload, output, btn_run, lbl_pred))"
   ]
  },
  {
   "cell_type": "code",
   "execution_count": 13,
   "metadata": {
    "colab": {
     "base_uri": "https://localhost:8080/",
     "height": 192,
     "referenced_widgets": [
      "8b1d816c407f490a9eb9f9f4aafbde94",
      "1d52450645674465b11600da1bc91889",
      "c2d475a8c8f346c597c94e7e51d2bbc2",
      "e95f4797406e48ac8c2af934a6191621",
      "1b6bf75ec5a04b35abb1f30c487ce31a",
      "b02d7273072d44208675fe9d4ba68822",
      "bbfdb56110b34e35be3a4342e9ea62a5",
      "cd5c5af3c3044d6bb2cde805f82806cd",
      "fd8481dfbbc54b59b227c725c0f8f076",
      "296a2adb16e64190a528b5c91fb090e5",
      "58eb323a8b174388936d7d289b0afa93",
      "f46dc458dfee476cb7def279b3bf947c",
      "d503c040e24c49d780f61617a1f03ce8"
     ]
    },
    "id": "cmu3OHrMHd5J",
    "outputId": "8228a48e-146b-4e91-a3fd-98ba5c96fa4f"
   },
   "outputs": [
    {
     "data": {
      "application/vnd.jupyter.widget-view+json": {
       "model_id": "99d863371bbd4353b6eac378a546094d",
       "version_major": 2,
       "version_minor": 0
      },
      "text/plain": [
       "VBox(children=(FileUpload(value={}, description='Upload'), Output(), Button(description='Display', style=Butto…"
      ]
     },
     "metadata": {},
     "output_type": "display_data"
    },
    {
     "data": {
      "text/html": [],
      "text/plain": [
       "<IPython.core.display.HTML object>"
      ]
     },
     "metadata": {},
     "output_type": "display_data"
    }
   ],
   "source": [
    "box.layout.align_items='center'\n",
    "box.layout.width = '250px'\n",
    "box"
   ]
  },
  {
   "cell_type": "code",
   "execution_count": 14,
   "metadata": {
    "id": "djrmGBlyIaZo"
   },
   "outputs": [],
   "source": [
    "def on_upload_change(change):\n",
    "    img = Image.open(io.BytesIO(btn_upload.data[-1]))\n",
    "    output.clear_output()\n",
    "    img.thumbnail((128,128))\n",
    "    with output: display(img)\n",
    "    btn_run.description = \"Predict\"\n",
    "btn_upload.observe(on_upload_change, names='_counter')"
   ]
  },
  {
   "cell_type": "code",
   "execution_count": 17,
   "metadata": {
    "id": "OENPSWllYIn5"
   },
   "outputs": [],
   "source": [
    "import pathlib, os\n",
    "pathlib.PosixPath = pathlib.WindowsPath\n",
    "path = os.path.join(os.path.abspath(''), 'Resources/Models/RatMiceClassifier.pkl')\n",
    "if os.path.isfile(path):\n",
    "    learn_inf = load_learner(path)"
   ]
  },
  {
   "cell_type": "code",
   "execution_count": 16,
   "metadata": {
    "id": "07bffzwYJFgu"
   },
   "outputs": [],
   "source": [
    "def predict(change):\n",
    "    pred,pred_idx,probs = learn_inf.predict(btn_upload.data[-1])\n",
    "    lbl_pred.value = f'Prediction: {pred}; Probability: {probs[pred_idx]:.04f}'\n",
    "btn_run.on_click(predict)"
   ]
  },
  {
   "cell_type": "code",
   "execution_count": null,
   "metadata": {},
   "outputs": [],
   "source": []
  }
 ],
 "metadata": {
  "colab": {
   "collapsed_sections": [],
   "name": "Interface.ipynb",
   "provenance": []
  },
  "kernelspec": {
   "display_name": "Python 3",
   "language": "python",
   "name": "python3"
  },
  "language_info": {
   "codemirror_mode": {
    "name": "ipython",
    "version": 3
   },
   "file_extension": ".py",
   "mimetype": "text/x-python",
   "name": "python",
   "nbconvert_exporter": "python",
   "pygments_lexer": "ipython3",
   "version": "3.8.5"
  },
  "widgets": {
   "application/vnd.jupyter.widget-state+json": {
    "1b6bf75ec5a04b35abb1f30c487ce31a": {
     "model_module": "@jupyter-widgets/controls",
     "model_name": "ButtonModel",
     "state": {
      "_dom_classes": [],
      "_model_module": "@jupyter-widgets/controls",
      "_model_module_version": "1.5.0",
      "_model_name": "ButtonModel",
      "_view_count": null,
      "_view_module": "@jupyter-widgets/controls",
      "_view_module_version": "1.5.0",
      "_view_name": "ButtonView",
      "button_style": "",
      "description": "Predict",
      "disabled": false,
      "icon": "",
      "layout": "IPY_MODEL_296a2adb16e64190a528b5c91fb090e5",
      "style": "IPY_MODEL_fd8481dfbbc54b59b227c725c0f8f076",
      "tooltip": ""
     }
    },
    "1d52450645674465b11600da1bc91889": {
     "model_module": "@jupyter-widgets/base",
     "model_name": "LayoutModel",
     "state": {
      "_model_module": "@jupyter-widgets/base",
      "_model_module_version": "1.2.0",
      "_model_name": "LayoutModel",
      "_view_count": null,
      "_view_module": "@jupyter-widgets/base",
      "_view_module_version": "1.2.0",
      "_view_name": "LayoutView",
      "align_content": null,
      "align_items": "center",
      "align_self": null,
      "border": null,
      "bottom": null,
      "display": null,
      "flex": null,
      "flex_flow": null,
      "grid_area": null,
      "grid_auto_columns": null,
      "grid_auto_flow": null,
      "grid_auto_rows": null,
      "grid_column": null,
      "grid_gap": null,
      "grid_row": null,
      "grid_template_areas": null,
      "grid_template_columns": null,
      "grid_template_rows": null,
      "height": null,
      "justify_content": null,
      "justify_items": null,
      "left": null,
      "margin": null,
      "max_height": null,
      "max_width": null,
      "min_height": null,
      "min_width": null,
      "object_fit": null,
      "object_position": null,
      "order": null,
      "overflow": null,
      "overflow_x": null,
      "overflow_y": null,
      "padding": null,
      "right": null,
      "top": null,
      "visibility": null,
      "width": "250px"
     }
    },
    "296a2adb16e64190a528b5c91fb090e5": {
     "model_module": "@jupyter-widgets/base",
     "model_name": "LayoutModel",
     "state": {
      "_model_module": "@jupyter-widgets/base",
      "_model_module_version": "1.2.0",
      "_model_name": "LayoutModel",
      "_view_count": null,
      "_view_module": "@jupyter-widgets/base",
      "_view_module_version": "1.2.0",
      "_view_name": "LayoutView",
      "align_content": null,
      "align_items": null,
      "align_self": null,
      "border": null,
      "bottom": null,
      "display": null,
      "flex": null,
      "flex_flow": null,
      "grid_area": null,
      "grid_auto_columns": null,
      "grid_auto_flow": null,
      "grid_auto_rows": null,
      "grid_column": null,
      "grid_gap": null,
      "grid_row": null,
      "grid_template_areas": null,
      "grid_template_columns": null,
      "grid_template_rows": null,
      "height": null,
      "justify_content": null,
      "justify_items": null,
      "left": null,
      "margin": null,
      "max_height": null,
      "max_width": null,
      "min_height": null,
      "min_width": null,
      "object_fit": null,
      "object_position": null,
      "order": null,
      "overflow": null,
      "overflow_x": null,
      "overflow_y": null,
      "padding": null,
      "right": null,
      "top": null,
      "visibility": null,
      "width": null
     }
    },
    "58eb323a8b174388936d7d289b0afa93": {
     "model_module": "@jupyter-widgets/controls",
     "model_name": "DescriptionStyleModel",
     "state": {
      "_model_module": "@jupyter-widgets/controls",
      "_model_module_version": "1.5.0",
      "_model_name": "DescriptionStyleModel",
      "_view_count": null,
      "_view_module": "@jupyter-widgets/base",
      "_view_module_version": "1.2.0",
      "_view_name": "StyleView",
      "description_width": ""
     }
    },
    "8b1d816c407f490a9eb9f9f4aafbde94": {
     "model_module": "@jupyter-widgets/controls",
     "model_name": "VBoxModel",
     "state": {
      "_dom_classes": [],
      "_model_module": "@jupyter-widgets/controls",
      "_model_module_version": "1.5.0",
      "_model_name": "VBoxModel",
      "_view_count": null,
      "_view_module": "@jupyter-widgets/controls",
      "_view_module_version": "1.5.0",
      "_view_name": "VBoxView",
      "box_style": "",
      "children": [
       "IPY_MODEL_c2d475a8c8f346c597c94e7e51d2bbc2",
       "IPY_MODEL_e95f4797406e48ac8c2af934a6191621",
       "IPY_MODEL_1b6bf75ec5a04b35abb1f30c487ce31a",
       "IPY_MODEL_b02d7273072d44208675fe9d4ba68822"
      ],
      "layout": "IPY_MODEL_1d52450645674465b11600da1bc91889"
     }
    },
    "b02d7273072d44208675fe9d4ba68822": {
     "model_module": "@jupyter-widgets/controls",
     "model_name": "LabelModel",
     "state": {
      "_dom_classes": [],
      "_model_module": "@jupyter-widgets/controls",
      "_model_module_version": "1.5.0",
      "_model_name": "LabelModel",
      "_view_count": null,
      "_view_module": "@jupyter-widgets/controls",
      "_view_module_version": "1.5.0",
      "_view_name": "LabelView",
      "description": "",
      "description_tooltip": null,
      "layout": "IPY_MODEL_f46dc458dfee476cb7def279b3bf947c",
      "placeholder": "​",
      "style": "IPY_MODEL_58eb323a8b174388936d7d289b0afa93",
      "value": "Prediction: rat; Probability: 0.9958"
     }
    },
    "bbfdb56110b34e35be3a4342e9ea62a5": {
     "model_module": "@jupyter-widgets/controls",
     "model_name": "ButtonStyleModel",
     "state": {
      "_model_module": "@jupyter-widgets/controls",
      "_model_module_version": "1.5.0",
      "_model_name": "ButtonStyleModel",
      "_view_count": null,
      "_view_module": "@jupyter-widgets/base",
      "_view_module_version": "1.2.0",
      "_view_name": "StyleView",
      "button_color": null,
      "font_weight": ""
     }
    },
    "c2d475a8c8f346c597c94e7e51d2bbc2": {
     "model_module": "@jupyter-widgets/controls",
     "model_name": "FileUploadModel",
     "state": {
      "_counter": 2,
      "_dom_classes": [],
      "_model_module": "@jupyter-widgets/controls",
      "_model_module_version": "1.5.0",
      "_model_name": "FileUploadModel",
      "_view_count": null,
      "_view_module": "@jupyter-widgets/controls",
      "_view_module_version": "1.5.0",
      "_view_name": "FileUploadView",
      "accept": "",
      "button_style": "",
      "data": [
       null
      ],
      "description": "Upload",
      "description_tooltip": null,
      "disabled": false,
      "error": "",
      "icon": "upload",
      "layout": "IPY_MODEL_cd5c5af3c3044d6bb2cde805f82806cd",
      "metadata": [
       {
        "lastModified": 1613405111365,
        "name": "rat-1-104052.jpg",
        "size": 175586,
        "type": "image/jpeg"
       }
      ],
      "multiple": false,
      "style": "IPY_MODEL_bbfdb56110b34e35be3a4342e9ea62a5"
     }
    },
    "cd5c5af3c3044d6bb2cde805f82806cd": {
     "model_module": "@jupyter-widgets/base",
     "model_name": "LayoutModel",
     "state": {
      "_model_module": "@jupyter-widgets/base",
      "_model_module_version": "1.2.0",
      "_model_name": "LayoutModel",
      "_view_count": null,
      "_view_module": "@jupyter-widgets/base",
      "_view_module_version": "1.2.0",
      "_view_name": "LayoutView",
      "align_content": null,
      "align_items": null,
      "align_self": null,
      "border": null,
      "bottom": null,
      "display": null,
      "flex": null,
      "flex_flow": null,
      "grid_area": null,
      "grid_auto_columns": null,
      "grid_auto_flow": null,
      "grid_auto_rows": null,
      "grid_column": null,
      "grid_gap": null,
      "grid_row": null,
      "grid_template_areas": null,
      "grid_template_columns": null,
      "grid_template_rows": null,
      "height": null,
      "justify_content": null,
      "justify_items": null,
      "left": null,
      "margin": null,
      "max_height": null,
      "max_width": null,
      "min_height": null,
      "min_width": null,
      "object_fit": null,
      "object_position": null,
      "order": null,
      "overflow": null,
      "overflow_x": null,
      "overflow_y": null,
      "padding": null,
      "right": null,
      "top": null,
      "visibility": null,
      "width": null
     }
    },
    "d503c040e24c49d780f61617a1f03ce8": {
     "model_module": "@jupyter-widgets/base",
     "model_name": "LayoutModel",
     "state": {
      "_model_module": "@jupyter-widgets/base",
      "_model_module_version": "1.2.0",
      "_model_name": "LayoutModel",
      "_view_count": null,
      "_view_module": "@jupyter-widgets/base",
      "_view_module_version": "1.2.0",
      "_view_name": "LayoutView",
      "align_content": null,
      "align_items": null,
      "align_self": null,
      "border": null,
      "bottom": null,
      "display": null,
      "flex": null,
      "flex_flow": null,
      "grid_area": null,
      "grid_auto_columns": null,
      "grid_auto_flow": null,
      "grid_auto_rows": null,
      "grid_column": null,
      "grid_gap": null,
      "grid_row": null,
      "grid_template_areas": null,
      "grid_template_columns": null,
      "grid_template_rows": null,
      "height": null,
      "justify_content": null,
      "justify_items": null,
      "left": null,
      "margin": null,
      "max_height": null,
      "max_width": null,
      "min_height": null,
      "min_width": null,
      "object_fit": null,
      "object_position": null,
      "order": null,
      "overflow": null,
      "overflow_x": null,
      "overflow_y": null,
      "padding": null,
      "right": null,
      "top": null,
      "visibility": null,
      "width": null
     }
    },
    "e95f4797406e48ac8c2af934a6191621": {
     "model_module": "@jupyter-widgets/output",
     "model_name": "OutputModel",
     "state": {
      "_dom_classes": [],
      "_model_module": "@jupyter-widgets/output",
      "_model_module_version": "1.0.0",
      "_model_name": "OutputModel",
      "_view_count": null,
      "_view_module": "@jupyter-widgets/output",
      "_view_module_version": "1.0.0",
      "_view_name": "OutputView",
      "layout": "IPY_MODEL_d503c040e24c49d780f61617a1f03ce8",
      "msg_id": "",
      "outputs": [
       {
        "image/png": "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\n",
        "metadata": {
         "tags": []
        },
        "output_type": "display_data",
        "text/plain": "<PIL.JpegImagePlugin.JpegImageFile image mode=RGB size=128x79 at 0x7FF8BBC367B8>"
       }
      ]
     }
    },
    "f46dc458dfee476cb7def279b3bf947c": {
     "model_module": "@jupyter-widgets/base",
     "model_name": "LayoutModel",
     "state": {
      "_model_module": "@jupyter-widgets/base",
      "_model_module_version": "1.2.0",
      "_model_name": "LayoutModel",
      "_view_count": null,
      "_view_module": "@jupyter-widgets/base",
      "_view_module_version": "1.2.0",
      "_view_name": "LayoutView",
      "align_content": null,
      "align_items": null,
      "align_self": null,
      "border": null,
      "bottom": null,
      "display": null,
      "flex": null,
      "flex_flow": null,
      "grid_area": null,
      "grid_auto_columns": null,
      "grid_auto_flow": null,
      "grid_auto_rows": null,
      "grid_column": null,
      "grid_gap": null,
      "grid_row": null,
      "grid_template_areas": null,
      "grid_template_columns": null,
      "grid_template_rows": null,
      "height": null,
      "justify_content": null,
      "justify_items": null,
      "left": null,
      "margin": null,
      "max_height": null,
      "max_width": null,
      "min_height": null,
      "min_width": null,
      "object_fit": null,
      "object_position": null,
      "order": null,
      "overflow": null,
      "overflow_x": null,
      "overflow_y": null,
      "padding": null,
      "right": null,
      "top": null,
      "visibility": null,
      "width": null
     }
    },
    "fd8481dfbbc54b59b227c725c0f8f076": {
     "model_module": "@jupyter-widgets/controls",
     "model_name": "ButtonStyleModel",
     "state": {
      "_model_module": "@jupyter-widgets/controls",
      "_model_module_version": "1.5.0",
      "_model_name": "ButtonStyleModel",
      "_view_count": null,
      "_view_module": "@jupyter-widgets/base",
      "_view_module_version": "1.2.0",
      "_view_name": "StyleView",
      "button_color": null,
      "font_weight": ""
     }
    }
   }
  }
 },
 "nbformat": 4,
 "nbformat_minor": 1
}
